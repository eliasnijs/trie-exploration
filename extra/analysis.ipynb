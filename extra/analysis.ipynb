{
 "cells": [
  {
   "cell_type": "code",
   "execution_count": 1,
   "metadata": {},
   "outputs": [],
   "source": [
    "import numpy as np\n",
    "import matplotlib.pyplot as plt\n",
    "%matplotlib inline"
   ]
  },
  {
   "cell_type": "code",
   "execution_count": 2,
   "metadata": {},
   "outputs": [],
   "source": [
    "def drawplot(path:str, title:str, xname:str, yname:str, ax) -> None:\n",
    "    ax.set_axisbelow(True)\n",
    "    ax.yaxis.grid(color='silver')\n",
    "    plt.subplots_adjust(bottom=0.15)\n",
    "    plt.xlabel(xname) \n",
    "    plt.ylabel(yname)\n",
    "    plt.title(title)\n",
    "    plt.legend()\n",
    "    plt.savefig(f\"{path}.eps\", format='eps')\n",
    "    plt.savefig(f\"{path}.png\", format='png')\n",
    "    plt.show()"
   ]
  },
  {
   "cell_type": "code",
   "execution_count": 18,
   "metadata": {},
   "outputs": [],
   "source": [
    "import subprocess\n",
    "import os"
   ]
  },
  {
   "cell_type": "code",
   "execution_count": 35,
   "metadata": {},
   "outputs": [
    {
     "name": "stdout",
     "output_type": "stream",
     "text": [
      "globosum.g6            ternary  1.017354\n",
      "geschud.g6             ternary  2.984184\n",
      "blokgrafen.g6          ternary  0.074257\n",
      "words.txt              ternary  0.016571\n",
      "geschud_klein.g6       ternary  0.000792\n"
     ]
    }
   ],
   "source": [
    "tries = [\"ternary\", \"array\", \"custom\"]\n",
    "files = os.listdir(\"../resources/\")\n",
    "\n",
    "for trie in tries:\n",
    "    for file in files:\n",
    "        args = \"../build/benchmarks\", trie, f\"../resources/{file}\", \"1\"\n",
    "        popen = subprocess.Popen(args, stdout=subprocess.PIPE)\n",
    "        popen.wait()\n",
    "        result = float(popen.stdout.read())\n",
    "        print(f\"{file:22} {trie:8} {result:12}\")"
   ]
  }
 ],
 "metadata": {
  "kernelspec": {
   "display_name": "Python 3.9.5 64-bit",
   "language": "python",
   "name": "python3"
  },
  "language_info": {
   "codemirror_mode": {
    "name": "ipython",
    "version": 3
   },
   "file_extension": ".py",
   "mimetype": "text/x-python",
   "name": "python",
   "nbconvert_exporter": "python",
   "pygments_lexer": "ipython3",
   "version": "3.9.5"
  },
  "orig_nbformat": 4,
  "vscode": {
   "interpreter": {
    "hash": "f9f85f796d01129d0dd105a088854619f454435301f6ffec2fea96ecbd9be4ac"
   }
  }
 },
 "nbformat": 4,
 "nbformat_minor": 2
}
